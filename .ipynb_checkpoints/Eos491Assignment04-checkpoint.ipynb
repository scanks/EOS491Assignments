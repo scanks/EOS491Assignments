{
 "cells": [
  {
   "cell_type": "code",
   "execution_count": 1,
   "metadata": {
    "collapsed": true
   },
   "outputs": [],
   "source": [
    "import numpy as np \n",
    "import matplotlib.pyplot as plt\n",
    "import matplotlib.mlab as mlab\n",
    "%matplotlib inline\n",
    "import numpy.linalg as ag"
   ]
  },
  {
   "cell_type": "code",
   "execution_count": 29,
   "metadata": {
    "collapsed": false,
    "scrolled": false
   },
   "outputs": [
    {
     "name": "stdout",
     "output_type": "stream",
     "text": [
      "Assignment 4\n",
      "Daniel Scanks\n",
      "V00788200\n",
      "\n",
      "Question 2\n",
      "a)\n",
      "\n"
     ]
    },
    {
     "data": {
      "image/png": "[encoded data removed]",
      "text/plain": [
       "<matplotlib.figure.Figure at 0xc00cdd8>"
      ]
     },
     "metadata": {},
     "output_type": "display_data"
    },
    {
     "data": {
      "text/plain": [
       "<function matplotlib.pyplot.savefig>"
      ]
     },
     "execution_count": 29,
     "metadata": {},
     "output_type": "execute_result"
    }
   ],
   "source": [
    "print'Assignment 4'\n",
    "print'Daniel Scanks'\n",
    "print'V00788200'\n",
    "print''\n",
    "print'Question 2'\n",
    "#Question 2 data\n",
    "\n",
    "#true model\n",
    "mt = np.zeros(50)\n",
    "for i in range(50):\n",
    "    if i < 7:\n",
    "        mt[i] = 20\n",
    "    elif i in range(7,19):\n",
    "        mt[i] = 10\n",
    "    elif i in range(20,34):\n",
    "        mt[i] = 50\n",
    "    else:\n",
    "        mt[i] = 35\n",
    "#mt is used for array in A matrix, below is for column vector\n",
    "mt1 = np.matrix(mt)\n",
    "mtrue = mt1.T\n",
    "\n",
    "#Depths\n",
    "z = np.arange(100,5100,100)\n",
    "\n",
    "\n",
    "#sensitivity matrix A\n",
    "alpha = 0.5e-3\n",
    "A = np.zeros((20,50))\n",
    "for j in range(20):\n",
    "    for k in range(50):\n",
    "        A[j,k] = np.exp(-alpha*j**2*z[k]/mt[k])\n",
    "\n",
    "#part a)\n",
    "print'a)'\n",
    "print''\n",
    "norm = np.max(abs(A))\n",
    "Ar = A/(norm)\n",
    "T = range(Ar.shape[1])\n",
    "plt.figure(figsize=(10,4))\n",
    "for i in range(Ar.shape[0]):\n",
    "    base = Ar[i,]*0.\n",
    "    base.fill(Ar.shape[1]-i)\n",
    "    plt.fill_between(T, base, Ar[i,]+base)\n",
    "plt.ylim(0,Ar.shape[1]+1)\n",
    "plt.title('Rows of sensitivity matrix normalized by max')\n",
    "plt.axis('off')\n",
    "plt.show()\n",
    "plt.savefig"
   ]
  },
  {
   "cell_type": "code",
   "execution_count": null,
   "metadata": {
    "collapsed": true
   },
   "outputs": [],
   "source": []
  }
 ],
 "metadata": {
  "kernelspec": {
   "display_name": "Python 2",
   "language": "python",
   "name": "python2"
  },
  "language_info": {
   "codemirror_mode": {
    "name": "ipython",
    "version": 2
   },
   "file_extension": ".py",
   "mimetype": "text/x-python",
   "name": "python",
   "nbconvert_exporter": "python",
   "pygments_lexer": "ipython2",
   "version": "2.7.10"
  }
 },
 "nbformat": 4,
 "nbformat_minor": 0
}
